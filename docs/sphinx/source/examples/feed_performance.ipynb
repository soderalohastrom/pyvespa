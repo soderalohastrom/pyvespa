{
 "cells": [
  {
   "cell_type": "markdown",
   "id": "given-adoption",
   "metadata": {},
   "source": [
    "<picture>\n",
    "  <source media=\"(prefers-color-scheme: dark)\" srcset=\"https://vespa.ai/assets/vespa-ai-logo-heather.svg\">\n",
    "  <source media=\"(prefers-color-scheme: light)\" srcset=\"https://vespa.ai/assets/vespa-ai-logo-rock.svg\">\n",
    "  <img alt=\"#Vespa\" width=\"200\" src=\"https://vespa.ai/assets/vespa-ai-logo-rock.svg\" style=\"margin-bottom: 25px;\">\n",
    "</picture>\n",
    "\n",
    "# Feeding performance\n",
    "\n",
    "This explorative notebook intends to shine some light on the different modes of feeding documents to Vespa.\n",
    "We will look at these different methods:\n",
    "\n",
    "1. Sync feeding from pyVespa.\n",
    "2. Async feeding from pyVespa.\n",
    "3. Using `app.feed_iterable()` from pyVespa.\n",
    "4. Using Vespa CLI[TODO:Link].\n"
   ]
  },
  {
   "cell_type": "markdown",
   "id": "8c967bd2",
   "metadata": {},
   "source": [
    "<div class=\"alert alert-info\">\n",
    "    Refer to <a href=\"https://pyvespa.readthedocs.io/en/latest/troubleshooting.html\">troubleshooting</a>\n",
    "    for any problem when running this guide.\n",
    "</div>\n"
   ]
  },
  {
   "cell_type": "markdown",
   "id": "8345b2fe",
   "metadata": {},
   "source": [
    "[Install pyvespa](https://pyvespa.readthedocs.io/) and start Docker Daemon, validate minimum 6G available:\n"
   ]
  },
  {
   "cell_type": "code",
   "execution_count": 1,
   "id": "03f3d0f2",
   "metadata": {},
   "outputs": [],
   "source": [
    "#!pip3 install pyvespa\n",
    "#!docker info | grep \"Total Memory\""
   ]
  },
  {
   "cell_type": "markdown",
   "id": "db637322",
   "metadata": {},
   "source": [
    "## Create an application package\n",
    "\n",
    "The [application package](https://pyvespa.readthedocs.io/en/latest/reference-api.html#vespa.package.ApplicationPackage)\n",
    "has all the Vespa configuration files -\n",
    "create one from scratch:\n"
   ]
  },
  {
   "cell_type": "code",
   "execution_count": 1,
   "id": "bd5c2629",
   "metadata": {},
   "outputs": [],
   "source": [
    "from vespa.package import (\n",
    "    ApplicationPackage,\n",
    "    Field,\n",
    "    Schema,\n",
    "    Document,\n",
    "    FieldSet,\n",
    ")\n",
    "\n",
    "package = ApplicationPackage(\n",
    "    name=\"pyvespafeed\",\n",
    "    schema=[\n",
    "        Schema(\n",
    "            name=\"doc\",\n",
    "            document=Document(\n",
    "                fields=[\n",
    "                    Field(name=\"id\", type=\"string\", indexing=[\"summary\"]),\n",
    "                    Field(name=\"text\", type=\"string\", indexing=[\"summary\"]),\n",
    "                ]\n",
    "            ),\n",
    "            fieldsets=[FieldSet(name=\"default\", fields=[\"text\"])],\n",
    "        )\n",
    "    ],\n",
    ")"
   ]
  },
  {
   "cell_type": "markdown",
   "id": "2c5e2943",
   "metadata": {},
   "source": [
    "Note that the name cannot have `-` or `_`.\n"
   ]
  },
  {
   "cell_type": "markdown",
   "id": "careful-savage",
   "metadata": {},
   "source": [
    "## Deploy the Vespa application\n",
    "\n",
    "Deploy `package` on the local machine using Docker,\n",
    "without leaving the notebook, by creating an instance of\n",
    "[VespaDocker](https://pyvespa.readthedocs.io/en/latest/reference-api.html#vespa.deployment.VespaDocker). `VespaDocker` connects\n",
    "to the local Docker daemon socket and starts the [Vespa docker image](https://hub.docker.com/r/vespaengine/vespa/).\n",
    "\n",
    "If this step fails, please check\n",
    "that the Docker daemon is running, and that the Docker daemon socket can be used by clients (Configurable under advanced settings in Docker Desktop).\n"
   ]
  },
  {
   "cell_type": "code",
   "execution_count": 8,
   "id": "canadian-blood",
   "metadata": {},
   "outputs": [
    {
     "name": "stdout",
     "output_type": "stream",
     "text": [
      "Waiting for configuration server, 0/300 seconds...\n",
      "Using plain http against endpoint http://localhost:8080/ApplicationStatus\n",
      "Waiting for application status, 0/300 seconds...\n",
      "Using plain http against endpoint http://localhost:8080/ApplicationStatus\n",
      "Waiting for application status, 5/300 seconds...\n",
      "Using plain http against endpoint http://localhost:8080/ApplicationStatus\n",
      "Waiting for application status, 10/300 seconds...\n",
      "Using plain http against endpoint http://localhost:8080/ApplicationStatus\n",
      "Application is up!\n",
      "Finished deployment.\n"
     ]
    }
   ],
   "source": [
    "from vespa.deployment import VespaDocker\n",
    "\n",
    "vespa_docker = VespaDocker()\n",
    "app = vespa_docker.deploy(application_package=package)"
   ]
  },
  {
   "cell_type": "markdown",
   "id": "aaae2f91",
   "metadata": {},
   "source": [
    "`app` now holds a reference to a [Vespa](https://pyvespa.readthedocs.io/en/latest/reference-api.html#vespa.application.Vespa) instance.\n"
   ]
  },
  {
   "cell_type": "markdown",
   "id": "sealed-mustang",
   "metadata": {},
   "source": [
    "## Feeding documents to Vespa\n",
    "\n",
    "In this example we use the [HF Datasets](https://huggingface.co/docs/datasets/index) library to stream the\n",
    "[BeIR/nfcorpus](https://huggingface.co/datasets/BeIR/nfcorpus) dataset and index in our newly deployed Vespa instance. Read\n",
    "more about the [NFCorpus](https://www.cl.uni-heidelberg.de/statnlpgroup/nfcorpus/):\n",
    "\n",
    "> NFCorpus is a full-text English retrieval data set for Medical Information Retrieval.\n",
    "\n",
    "The following uses the [stream](https://huggingface.co/docs/datasets/stream) option of datasets to stream the data without\n",
    "downloading all the contents locally. The `map` functionality allows us to convert the\n",
    "dataset fields into the expected feed format for `pyvespa` which expects a dict with the keys `id` and `fields`:\n",
    "\n",
    "`{ \"id\": \"vespa-document-id\", \"fields\": {\"vespa_field\": \"vespa-field-value\"}}`\n"
   ]
  },
  {
   "cell_type": "code",
   "execution_count": null,
   "id": "87d23386",
   "metadata": {},
   "outputs": [],
   "source": [
    "from datasets import load_dataset\n",
    "\n",
    "lang = \"simple\"  # Use the Simple English Wikipedia subset\n",
    "docs = load_dataset(\n",
    "    \"Cohere/wikipedia-2023-11-embed-multilingual-v3\",\n",
    "    lang,\n",
    "    split=\"train\",\n",
    "    streaming=True,\n",
    ")\n",
    "for doc in docs:\n",
    "    doc_id = doc[\"_id\"]\n",
    "    title = doc[\"title\"]\n",
    "    text = doc[\"text\"]\n",
    "    emb = doc[\"emb\"]"
   ]
  },
  {
   "cell_type": "code",
   "execution_count": 13,
   "id": "e9d3facd",
   "metadata": {},
   "outputs": [
    {
     "name": "stderr",
     "output_type": "stream",
     "text": [
      "Downloading data: 100%|██████████| 23.6M/23.6M [00:03<00:00, 6.63MB/s]\n",
      "Generating train split: 10967 examples [00:00, 113213.37 examples/s]\n",
      "Map: 100%|██████████| 10967/10967 [00:00<00:00, 33289.33 examples/s]\n"
     ]
    }
   ],
   "source": [
    "from datasets import load_dataset\n",
    "\n",
    "dataset = load_dataset(\n",
    "    \"Cohere/wikipedia-2023-11-embed-multilingual-v3\",\n",
    "    \"ext\",\n",
    "    split=\"train\",\n",
    "    streaming=False,\n",
    ")\n",
    "vespa_feed = dataset.map(lambda x: {\"id\": x[\"_id\"], \"fields\": {\"text\": x[\"text\"]}})"
   ]
  },
  {
   "cell_type": "markdown",
   "id": "b4d6bc25",
   "metadata": {},
   "source": [
    "Now we can feed to Vespa using `feed_iterable` which accepts any `Iterable` and an optional callback function where we can\n",
    "check the outcome of each operation. The application is configured to use [embedding](https://docs.vespa.ai/en/embedding.html)\n",
    "functionality, that produce a vector embedding using a concatenation of the title and the body input fields. This step is computionally expensive. Read more\n",
    "about embedding inference in Vespa in the [Accelerating Transformer-based Embedding Retrieval with Vespa](https://blog.vespa.ai/accelerating-transformer-based-embedding-retrieval-with-vespa/).\n"
   ]
  },
  {
   "cell_type": "code",
   "execution_count": 8,
   "id": "fcd3d9f7",
   "metadata": {},
   "outputs": [
    {
     "data": {
      "application/vnd.jupyter.widget-view+json": {
       "model_id": "984b2988b23e448a8d696d12aabfc18b",
       "version_major": 2,
       "version_minor": 0
      },
      "text/plain": [
       "Output()"
      ]
     },
     "metadata": {},
     "output_type": "display_data"
    },
    {
     "data": {
      "text/html": [
       "<pre style=\"white-space:pre;overflow-x:auto;line-height:normal;font-family:Menlo,'DejaVu Sans Mono',consolas,'Courier New',monospace\"><span style=\"color: #7fbfbf; text-decoration-color: #7fbfbf\">[18:54:24] </span>Requesting www.wikipedia.org                                                            <a href=\"file:///var/folders/vb/ch14y_kn4mqfz75bhc9_g5980000gn/T/ipykernel_5193/3706060488.py\" target=\"_blank\"><span style=\"color: #7f7f7f; text-decoration-color: #7f7f7f\">3706060488.py</span></a><span style=\"color: #7f7f7f; text-decoration-color: #7f7f7f\">:</span><a href=\"file:///var/folders/vb/ch14y_kn4mqfz75bhc9_g5980000gn/T/ipykernel_5193/3706060488.py#49\" target=\"_blank\"><span style=\"color: #7f7f7f; text-decoration-color: #7f7f7f\">49</span></a>\n",
       "</pre>\n"
      ],
      "text/plain": [
       "\u001b[2;36m[18:54:24]\u001b[0m\u001b[2;36m \u001b[0mRequesting www.wikipedia.org                                                            \u001b]8;id=256028;file:///var/folders/vb/ch14y_kn4mqfz75bhc9_g5980000gn/T/ipykernel_5193/3706060488.py\u001b\\\u001b[2m3706060488.py\u001b[0m\u001b]8;;\u001b\\\u001b[2m:\u001b[0m\u001b]8;id=272410;file:///var/folders/vb/ch14y_kn4mqfz75bhc9_g5980000gn/T/ipykernel_5193/3706060488.py#49\u001b\\\u001b[2m49\u001b[0m\u001b]8;;\u001b\\\n"
      ]
     },
     "metadata": {},
     "output_type": "display_data"
    },
    {
     "data": {
      "text/html": [
       "<pre style=\"white-space:pre;overflow-x:auto;line-height:normal;font-family:Menlo,'DejaVu Sans Mono',consolas,'Courier New',monospace\"><span style=\"color: #7fbfbf; text-decoration-color: #7fbfbf\">           </span>Requesting www.wikipedia.org                                                            <a href=\"file:///var/folders/vb/ch14y_kn4mqfz75bhc9_g5980000gn/T/ipykernel_5193/3706060488.py\" target=\"_blank\"><span style=\"color: #7f7f7f; text-decoration-color: #7f7f7f\">3706060488.py</span></a><span style=\"color: #7f7f7f; text-decoration-color: #7f7f7f\">:</span><a href=\"file:///var/folders/vb/ch14y_kn4mqfz75bhc9_g5980000gn/T/ipykernel_5193/3706060488.py#49\" target=\"_blank\"><span style=\"color: #7f7f7f; text-decoration-color: #7f7f7f\">49</span></a>\n",
       "</pre>\n"
      ],
      "text/plain": [
       "\u001b[2;36m          \u001b[0m\u001b[2;36m \u001b[0mRequesting www.wikipedia.org                                                            \u001b]8;id=761615;file:///var/folders/vb/ch14y_kn4mqfz75bhc9_g5980000gn/T/ipykernel_5193/3706060488.py\u001b\\\u001b[2m3706060488.py\u001b[0m\u001b]8;;\u001b\\\u001b[2m:\u001b[0m\u001b]8;id=982730;file:///var/folders/vb/ch14y_kn4mqfz75bhc9_g5980000gn/T/ipykernel_5193/3706060488.py#49\u001b\\\u001b[2m49\u001b[0m\u001b]8;;\u001b\\\n"
      ]
     },
     "metadata": {},
     "output_type": "display_data"
    },
    {
     "data": {
      "text/html": [
       "<pre style=\"white-space:pre;overflow-x:auto;line-height:normal;font-family:Menlo,'DejaVu Sans Mono',consolas,'Courier New',monospace\"><span style=\"color: #7fbfbf; text-decoration-color: #7fbfbf\">           </span>Requesting www.wikipedia.org                                                            <a href=\"file:///var/folders/vb/ch14y_kn4mqfz75bhc9_g5980000gn/T/ipykernel_5193/3706060488.py\" target=\"_blank\"><span style=\"color: #7f7f7f; text-decoration-color: #7f7f7f\">3706060488.py</span></a><span style=\"color: #7f7f7f; text-decoration-color: #7f7f7f\">:</span><a href=\"file:///var/folders/vb/ch14y_kn4mqfz75bhc9_g5980000gn/T/ipykernel_5193/3706060488.py#49\" target=\"_blank\"><span style=\"color: #7f7f7f; text-decoration-color: #7f7f7f\">49</span></a>\n",
       "</pre>\n"
      ],
      "text/plain": [
       "\u001b[2;36m          \u001b[0m\u001b[2;36m \u001b[0mRequesting www.wikipedia.org                                                            \u001b]8;id=717322;file:///var/folders/vb/ch14y_kn4mqfz75bhc9_g5980000gn/T/ipykernel_5193/3706060488.py\u001b\\\u001b[2m3706060488.py\u001b[0m\u001b]8;;\u001b\\\u001b[2m:\u001b[0m\u001b]8;id=542799;file:///var/folders/vb/ch14y_kn4mqfz75bhc9_g5980000gn/T/ipykernel_5193/3706060488.py#49\u001b\\\u001b[2m49\u001b[0m\u001b]8;;\u001b\\\n"
      ]
     },
     "metadata": {},
     "output_type": "display_data"
    },
    {
     "data": {
      "text/html": [
       "<pre style=\"white-space:pre;overflow-x:auto;line-height:normal;font-family:Menlo,'DejaVu Sans Mono',consolas,'Courier New',monospace\"><span style=\"color: #7fbfbf; text-decoration-color: #7fbfbf\">           </span>Requesting www.wikipedia.org                                                            <a href=\"file:///var/folders/vb/ch14y_kn4mqfz75bhc9_g5980000gn/T/ipykernel_5193/3706060488.py\" target=\"_blank\"><span style=\"color: #7f7f7f; text-decoration-color: #7f7f7f\">3706060488.py</span></a><span style=\"color: #7f7f7f; text-decoration-color: #7f7f7f\">:</span><a href=\"file:///var/folders/vb/ch14y_kn4mqfz75bhc9_g5980000gn/T/ipykernel_5193/3706060488.py#49\" target=\"_blank\"><span style=\"color: #7f7f7f; text-decoration-color: #7f7f7f\">49</span></a>\n",
       "</pre>\n"
      ],
      "text/plain": [
       "\u001b[2;36m          \u001b[0m\u001b[2;36m \u001b[0mRequesting www.wikipedia.org                                                            \u001b]8;id=445750;file:///var/folders/vb/ch14y_kn4mqfz75bhc9_g5980000gn/T/ipykernel_5193/3706060488.py\u001b\\\u001b[2m3706060488.py\u001b[0m\u001b]8;;\u001b\\\u001b[2m:\u001b[0m\u001b]8;id=268876;file:///var/folders/vb/ch14y_kn4mqfz75bhc9_g5980000gn/T/ipykernel_5193/3706060488.py#49\u001b\\\u001b[2m49\u001b[0m\u001b]8;;\u001b\\\n"
      ]
     },
     "metadata": {},
     "output_type": "display_data"
    },
    {
     "data": {
      "text/html": [
       "<pre style=\"white-space:pre;overflow-x:auto;line-height:normal;font-family:Menlo,'DejaVu Sans Mono',consolas,'Courier New',monospace\"><span style=\"color: #7fbfbf; text-decoration-color: #7fbfbf\">           </span>Requesting www.wikipedia.org                                                            <a href=\"file:///var/folders/vb/ch14y_kn4mqfz75bhc9_g5980000gn/T/ipykernel_5193/3706060488.py\" target=\"_blank\"><span style=\"color: #7f7f7f; text-decoration-color: #7f7f7f\">3706060488.py</span></a><span style=\"color: #7f7f7f; text-decoration-color: #7f7f7f\">:</span><a href=\"file:///var/folders/vb/ch14y_kn4mqfz75bhc9_g5980000gn/T/ipykernel_5193/3706060488.py#49\" target=\"_blank\"><span style=\"color: #7f7f7f; text-decoration-color: #7f7f7f\">49</span></a>\n",
       "</pre>\n"
      ],
      "text/plain": [
       "\u001b[2;36m          \u001b[0m\u001b[2;36m \u001b[0mRequesting www.wikipedia.org                                                            \u001b]8;id=602741;file:///var/folders/vb/ch14y_kn4mqfz75bhc9_g5980000gn/T/ipykernel_5193/3706060488.py\u001b\\\u001b[2m3706060488.py\u001b[0m\u001b]8;;\u001b\\\u001b[2m:\u001b[0m\u001b]8;id=747599;file:///var/folders/vb/ch14y_kn4mqfz75bhc9_g5980000gn/T/ipykernel_5193/3706060488.py#49\u001b\\\u001b[2m49\u001b[0m\u001b]8;;\u001b\\\n"
      ]
     },
     "metadata": {},
     "output_type": "display_data"
    },
    {
     "data": {
      "text/html": [
       "<pre style=\"white-space:pre;overflow-x:auto;line-height:normal;font-family:Menlo,'DejaVu Sans Mono',consolas,'Courier New',monospace\"></pre>\n"
      ],
      "text/plain": []
     },
     "metadata": {},
     "output_type": "display_data"
    },
    {
     "data": {
      "text/html": [
       "<pre style=\"white-space:pre;overflow-x:auto;line-height:normal;font-family:Menlo,'DejaVu Sans Mono',consolas,'Courier New',monospace\">\n",
       "</pre>\n"
      ],
      "text/plain": [
       "\n"
      ]
     },
     "metadata": {},
     "output_type": "display_data"
    }
   ],
   "source": [
    "\"\"\"\n",
    "A rudimentary URL downloader (like wget or curl) to demonstrate Rich progress bars.\n",
    "\"\"\"\n",
    "\n",
    "import os.path\n",
    "import sys\n",
    "from concurrent.futures import ThreadPoolExecutor\n",
    "import signal\n",
    "from functools import partial\n",
    "from threading import Event\n",
    "from typing import Iterable\n",
    "from urllib.request import urlopen\n",
    "\n",
    "from rich.progress import (\n",
    "    BarColumn,\n",
    "    DownloadColumn,\n",
    "    Progress,\n",
    "    TaskID,\n",
    "    TextColumn,\n",
    "    TimeRemainingColumn,\n",
    "    TransferSpeedColumn,\n",
    ")\n",
    "\n",
    "progress = Progress(\n",
    "    TextColumn(\"[bold blue]{task.fields[filename]}\", justify=\"right\"),\n",
    "    BarColumn(bar_width=None),\n",
    "    \"[progress.percentage]{task.percentage:>3.1f}%\",\n",
    "    \"•\",\n",
    "    DownloadColumn(),\n",
    "    \"•\",\n",
    "    TransferSpeedColumn(),\n",
    "    \"•\",\n",
    "    TimeRemainingColumn(),\n",
    ")\n",
    "\n",
    "\n",
    "done_event = Event()\n",
    "\n",
    "\n",
    "def handle_sigint(signum, frame):\n",
    "    done_event.set()\n",
    "\n",
    "\n",
    "signal.signal(signal.SIGINT, handle_sigint)\n",
    "\n",
    "\n",
    "def copy_url(task_id: TaskID, url: str, path: str) -> None:\n",
    "    \"\"\"Copy data from a url to a local file.\"\"\"\n",
    "    progress.console.log(f\"Requesting {url}\")\n",
    "    response = urlopen(url)\n",
    "    # This will break if the response doesn't contain content length\n",
    "    progress.update(task_id, total=int(response.info()[\"Content-length\"]))\n",
    "    with open(path, \"wb\") as dest_file:\n",
    "        progress.start_task(task_id)\n",
    "        for data in iter(partial(response.read, 32768), b\"\"):\n",
    "            dest_file.write(data)\n",
    "            progress.update(task_id, advance=len(data))\n",
    "            if done_event.is_set():\n",
    "                return\n",
    "    progress.console.log(f\"Downloaded {path}\")\n",
    "\n",
    "\n",
    "def download(urls: Iterable[str], dest_dir: str):\n",
    "    \"\"\"Download multiple files to the given directory.\"\"\"\n",
    "\n",
    "    with progress:\n",
    "        with ThreadPoolExecutor(max_workers=4) as pool:\n",
    "            for url in urls:\n",
    "                filename = url.split(\"/\")[-1]\n",
    "                dest_path = os.path.join(dest_dir, filename)\n",
    "                task_id = progress.add_task(\"download\", filename=filename, start=False)\n",
    "                pool.submit(copy_url, task_id, url, dest_path)\n",
    "\n",
    "\n",
    "download(\n",
    "    [\n",
    "        \"www.wikipedia.org\",\n",
    "    ]\n",
    "    * 10,\n",
    "    \".\",\n",
    ")"
   ]
  },
  {
   "cell_type": "code",
   "execution_count": 1,
   "id": "aa2fa5e2",
   "metadata": {},
   "outputs": [
    {
     "data": {
      "application/vnd.jupyter.widget-view+json": {
       "model_id": "c223fb3acde74044ad1bb89b7c3c5e51",
       "version_major": 2,
       "version_minor": 0
      },
      "text/plain": [
       "Output()"
      ]
     },
     "metadata": {},
     "output_type": "display_data"
    },
    {
     "name": "stderr",
     "output_type": "stream",
     "text": [
      "/Users/thomas/Repos/pyvespa/pyvespa/lib/python3.9/site-packages/tqdm/rich.py:145: TqdmExperimentalWarning: rich is experimental/alpha\n",
      "  return tqdm_rich(range(*args), **kwargs)\n"
     ]
    },
    {
     "data": {
      "text/html": [
       "<pre style=\"white-space:pre;overflow-x:auto;line-height:normal;font-family:Menlo,'DejaVu Sans Mono',consolas,'Courier New',monospace\"></pre>\n"
      ],
      "text/plain": []
     },
     "metadata": {},
     "output_type": "display_data"
    },
    {
     "data": {
      "text/html": [
       "<pre style=\"white-space:pre;overflow-x:auto;line-height:normal;font-family:Menlo,'DejaVu Sans Mono',consolas,'Courier New',monospace\">\n",
       "</pre>\n"
      ],
      "text/plain": [
       "\n"
      ]
     },
     "metadata": {},
     "output_type": "display_data"
    }
   ],
   "source": [
    "from tqdm.rich import trange, tqdm\n",
    "import time\n",
    "\n",
    "for i in trange(0, 100):\n",
    "    time.sleep(0.1)"
   ]
  },
  {
   "cell_type": "code",
   "execution_count": 18,
   "id": "5647bd14",
   "metadata": {},
   "outputs": [
    {
     "data": {
      "text/plain": [
       "Dataset({\n",
       "    features: ['_id', 'url', 'title', 'text', 'emb', 'id', 'fields'],\n",
       "    num_rows: 10967\n",
       "})"
      ]
     },
     "execution_count": 18,
     "metadata": {},
     "output_type": "execute_result"
    }
   ],
   "source": [
    "vespa_feed.add_elasticsearch_index(index_name=\"simple\", url=\"http://localhost:8080\")"
   ]
  },
  {
   "cell_type": "markdown",
   "id": "105f47d2",
   "metadata": {},
   "source": []
  },
  {
   "cell_type": "markdown",
   "id": "c8bef96b",
   "metadata": {},
   "source": []
  },
  {
   "cell_type": "code",
   "execution_count": 17,
   "id": "a7429132",
   "metadata": {},
   "outputs": [
    {
     "name": "stderr",
     "output_type": "stream",
     "text": [
      "Exception in thread Thread-9:\n",
      "Traceback (most recent call last):\n",
      "  File \"/Library/Developer/CommandLineTools/Library/Frameworks/Python3.framework/Versions/3.9/lib/python3.9/threading.py\", line 973, in _bootstrap_inner\n",
      "    self.run()\n",
      "  File \"/Users/thomas/Repos/pyvespa/pyvespa/lib/python3.9/site-packages/ipykernel/ipkernel.py\", line 766, in run_closure\n",
      "    _threading_Thread_run(self)\n",
      "  File \"/Library/Developer/CommandLineTools/Library/Frameworks/Python3.framework/Versions/3.9/lib/python3.9/threading.py\", line 910, in run\n",
      "    self._target(*self._args, **self._kwargs)\n",
      "  File \"/Users/thomas/Repos/pyvespa/vespa/application.py\", line 365, in _consumer\n",
      "    _handle_result_callback(future, callback=callback)\n",
      "  File \"/Users/thomas/Repos/pyvespa/vespa/application.py\", line 418, in _handle_result_callback\n",
      "    id, response = future.result()\n",
      "  File \"/Library/Developer/CommandLineTools/Library/Frameworks/Python3.framework/Versions/3.9/lib/python3.9/concurrent/futures/_base.py\", line 438, in result\n",
      "    return self.__get_result()\n",
      "  File \"/Library/Developer/CommandLineTools/Library/Frameworks/Python3.framework/Versions/3.9/lib/python3.9/concurrent/futures/_base.py\", line 390, in __get_result\n",
      "    raise self._exception\n",
      "  File \"/Library/Developer/CommandLineTools/Library/Frameworks/Python3.framework/Versions/3.9/lib/python3.9/concurrent/futures/thread.py\", line 52, in run\n",
      "    result = self.fn(*self.args, **self.kwargs)\n",
      "  File \"/Users/thomas/Repos/pyvespa/vespa/application.py\", line 388, in _submit\n",
      "    id = doc.get(\"id\", None)\n",
      "AttributeError: 'str' object has no attribute 'get'\n"
     ]
    },
    {
     "ename": "KeyboardInterrupt",
     "evalue": "",
     "output_type": "error",
     "traceback": [
      "\u001b[0;31m---------------------------------------------------------------------------\u001b[0m",
      "\u001b[0;31mKeyboardInterrupt\u001b[0m                         Traceback (most recent call last)",
      "Cell \u001b[0;32mIn[17], line 8\u001b[0m\n\u001b[1;32m      5\u001b[0m     \u001b[38;5;28;01mif\u001b[39;00m \u001b[38;5;129;01mnot\u001b[39;00m response\u001b[38;5;241m.\u001b[39mis_successful():\n\u001b[1;32m      6\u001b[0m         \u001b[38;5;28mprint\u001b[39m(\u001b[38;5;124mf\u001b[39m\u001b[38;5;124m\"\u001b[39m\u001b[38;5;124mError when feeding document \u001b[39m\u001b[38;5;132;01m{\u001b[39;00m\u001b[38;5;28mid\u001b[39m\u001b[38;5;132;01m}\u001b[39;00m\u001b[38;5;124m: \u001b[39m\u001b[38;5;132;01m{\u001b[39;00mresponse\u001b[38;5;241m.\u001b[39mget_json()\u001b[38;5;132;01m}\u001b[39;00m\u001b[38;5;124m\"\u001b[39m)\n\u001b[0;32m----> 8\u001b[0m \u001b[43mapp\u001b[49m\u001b[38;5;241;43m.\u001b[39;49m\u001b[43mfeed_iterable\u001b[49m\u001b[43m(\u001b[49m\u001b[43mvespa_feed\u001b[49m\u001b[43m[\u001b[49m\u001b[43m:\u001b[49m\u001b[38;5;241;43m1\u001b[39;49m\u001b[43m]\u001b[49m\u001b[43m,\u001b[49m\u001b[43m \u001b[49m\u001b[43mschema\u001b[49m\u001b[38;5;241;43m=\u001b[39;49m\u001b[38;5;124;43m\"\u001b[39;49m\u001b[38;5;124;43mdoc\u001b[39;49m\u001b[38;5;124;43m\"\u001b[39;49m\u001b[43m,\u001b[49m\u001b[43m \u001b[49m\u001b[43mnamespace\u001b[49m\u001b[38;5;241;43m=\u001b[39;49m\u001b[38;5;124;43m\"\u001b[39;49m\u001b[38;5;124;43mpyvespa-feed\u001b[39;49m\u001b[38;5;124;43m\"\u001b[39;49m\u001b[43m,\u001b[49m\u001b[43m \u001b[49m\u001b[43mcallback\u001b[49m\u001b[38;5;241;43m=\u001b[39;49m\u001b[43mcallback\u001b[49m\u001b[43m)\u001b[49m\n",
      "File \u001b[0;32m~/Repos/pyvespa/vespa/application.py:439\u001b[0m, in \u001b[0;36mVespa.feed_iterable\u001b[0;34m(self, iter, schema, namespace, callback, operation_type, max_queue_size, max_workers, max_connections, **kwargs)\u001b[0m\n\u001b[1;32m    437\u001b[0m     queue\u001b[38;5;241m.\u001b[39mput(doc, block\u001b[38;5;241m=\u001b[39m\u001b[38;5;28;01mTrue\u001b[39;00m)\n\u001b[1;32m    438\u001b[0m queue\u001b[38;5;241m.\u001b[39mput(\u001b[38;5;28;01mNone\u001b[39;00m, block\u001b[38;5;241m=\u001b[39m\u001b[38;5;28;01mTrue\u001b[39;00m)\n\u001b[0;32m--> 439\u001b[0m \u001b[43mqueue\u001b[49m\u001b[38;5;241;43m.\u001b[39;49m\u001b[43mjoin\u001b[49m\u001b[43m(\u001b[49m\u001b[43m)\u001b[49m \n\u001b[1;32m    440\u001b[0m consumer_thread\u001b[38;5;241m.\u001b[39mjoin()\n",
      "File \u001b[0;32m/Library/Developer/CommandLineTools/Library/Frameworks/Python3.framework/Versions/3.9/lib/python3.9/queue.py:90\u001b[0m, in \u001b[0;36mQueue.join\u001b[0;34m(self)\u001b[0m\n\u001b[1;32m     88\u001b[0m \u001b[38;5;28;01mwith\u001b[39;00m \u001b[38;5;28mself\u001b[39m\u001b[38;5;241m.\u001b[39mall_tasks_done:\n\u001b[1;32m     89\u001b[0m     \u001b[38;5;28;01mwhile\u001b[39;00m \u001b[38;5;28mself\u001b[39m\u001b[38;5;241m.\u001b[39munfinished_tasks:\n\u001b[0;32m---> 90\u001b[0m         \u001b[38;5;28;43mself\u001b[39;49m\u001b[38;5;241;43m.\u001b[39;49m\u001b[43mall_tasks_done\u001b[49m\u001b[38;5;241;43m.\u001b[39;49m\u001b[43mwait\u001b[49m\u001b[43m(\u001b[49m\u001b[43m)\u001b[49m\n",
      "File \u001b[0;32m/Library/Developer/CommandLineTools/Library/Frameworks/Python3.framework/Versions/3.9/lib/python3.9/threading.py:312\u001b[0m, in \u001b[0;36mCondition.wait\u001b[0;34m(self, timeout)\u001b[0m\n\u001b[1;32m    310\u001b[0m \u001b[38;5;28;01mtry\u001b[39;00m:    \u001b[38;5;66;03m# restore state no matter what (e.g., KeyboardInterrupt)\u001b[39;00m\n\u001b[1;32m    311\u001b[0m     \u001b[38;5;28;01mif\u001b[39;00m timeout \u001b[38;5;129;01mis\u001b[39;00m \u001b[38;5;28;01mNone\u001b[39;00m:\n\u001b[0;32m--> 312\u001b[0m         \u001b[43mwaiter\u001b[49m\u001b[38;5;241;43m.\u001b[39;49m\u001b[43macquire\u001b[49m\u001b[43m(\u001b[49m\u001b[43m)\u001b[49m\n\u001b[1;32m    313\u001b[0m         gotit \u001b[38;5;241m=\u001b[39m \u001b[38;5;28;01mTrue\u001b[39;00m\n\u001b[1;32m    314\u001b[0m     \u001b[38;5;28;01melse\u001b[39;00m:\n",
      "\u001b[0;31mKeyboardInterrupt\u001b[0m: "
     ]
    }
   ],
   "source": [
    "from vespa.io import VespaResponse, VespaQueryResponse\n",
    "\n",
    "\n",
    "def callback(response: VespaResponse, id: str):\n",
    "    print(response)\n",
    "    if not response.is_successful():\n",
    "        print(f\"Error when feeding document {id}: {response.get_json()}\")\n",
    "\n",
    "\n",
    "app.feed_iterable(\n",
    "    vespa_feed[:1], schema=\"doc\", namespace=\"pyvespa-feed\", callback=callback\n",
    ")"
   ]
  },
  {
   "cell_type": "code",
   "execution_count": null,
   "id": "342a9a2b",
   "metadata": {},
   "outputs": [],
   "source": []
  },
  {
   "cell_type": "markdown",
   "id": "separated-insertion",
   "metadata": {},
   "source": [
    "## Querying Vespa\n",
    "\n",
    "Using the [Vespa Query language](https://docs.vespa.ai/en/query-language.html) we can query the indexed data.\n",
    "\n",
    "- Using a context manager `with app.syncio() as session` to handle connection pooling ([best practices](https://cloud.vespa.ai/en/http-best-practices))\n",
    "- The query method accepts any valid Vespa [query api parameter](https://docs.vespa.ai/en/reference/query-api-reference.html) in `**kwargs`\n",
    "- Vespa api parameter names that contains `.` must be sent as `dict` parameters in the `body` method argument\n",
    "\n",
    "The following searches for `How Fruits and Vegetables Can Treat Asthma?` using different retrieval and [ranking](https://docs.vespa.ai/en/ranking.html) strategies.\n"
   ]
  },
  {
   "cell_type": "code",
   "execution_count": 5,
   "id": "20306d5c",
   "metadata": {},
   "outputs": [],
   "source": [
    "import pandas as pd\n",
    "\n",
    "\n",
    "def display_hits_as_df(response: VespaQueryResponse, fields) -> pd.DataFrame:\n",
    "    records = []\n",
    "    for hit in response.hits:\n",
    "        record = {}\n",
    "        for field in fields:\n",
    "            record[field] = hit[\"fields\"][field]\n",
    "        records.append(record)\n",
    "    return pd.DataFrame(records)"
   ]
  },
  {
   "cell_type": "markdown",
   "id": "2798ec5c",
   "metadata": {},
   "source": [
    "### Plain Keyword search\n",
    "\n",
    "The following uses plain keyword search functionality with [bm25](https://docs.vespa.ai/en/reference/bm25.html) ranking, the `bm25` rank-profile was configured in the\n",
    "application package to use a linear combination of the bm25 score of the query terms against the title and the body field.\n"
   ]
  },
  {
   "cell_type": "code",
   "execution_count": 6,
   "id": "be392a78",
   "metadata": {},
   "outputs": [
    {
     "name": "stdout",
     "output_type": "stream",
     "text": [
      "         id                                              title\n",
      "0  MED-2450  Protective effect of fruits, vegetables and th...\n",
      "1  MED-2464  Low vegetable intake is associated with allerg...\n",
      "2  MED-1162  Pesticide residues in imported, organic, and \"...\n",
      "3  MED-2461  The association of diet with respiratory sympt...\n",
      "4  MED-2458  Manipulating antioxidant intake in asthma: a r...\n"
     ]
    }
   ],
   "source": [
    "with app.syncio(connections=1) as session:\n",
    "    query = \"How Fruits and Vegetables Can Treat Asthma?\"\n",
    "    response: VespaQueryResponse = session.query(\n",
    "        yql=\"select * from sources * where userQuery() limit 5\",\n",
    "        query=query,\n",
    "        ranking=\"bm25\",\n",
    "    )\n",
    "    assert response.is_successful()\n",
    "    print(display_hits_as_df(response, [\"id\", \"title\"]))"
   ]
  },
  {
   "cell_type": "markdown",
   "id": "fb3932b3",
   "metadata": {},
   "source": [
    "### Plain Semantic Search\n",
    "\n",
    "The following uses dense vector representations of the query and the document and matching is performed and accelerated by Vespa's support for\n",
    "[approximate nearest neighbor search](https://docs.vespa.ai/en/approximate-nn-hnsw.html).\n",
    "The vector embedding representation of the text is obtained using Vespa's [embedder functionality](https://docs.vespa.ai/en/embedding.html#embedding-a-query-text).\n"
   ]
  },
  {
   "cell_type": "code",
   "execution_count": 7,
   "id": "ff6f0fac",
   "metadata": {},
   "outputs": [
    {
     "name": "stdout",
     "output_type": "stream",
     "text": [
      "         id                                              title\n",
      "0  MED-5072  Lycopene-rich treatments modify noneosinophili...\n",
      "1  MED-2472  Vegan regimen with reduced medication in the t...\n",
      "2  MED-2464  Low vegetable intake is associated with allerg...\n",
      "3  MED-2458  Manipulating antioxidant intake in asthma: a r...\n",
      "4  MED-2450  Protective effect of fruits, vegetables and th...\n"
     ]
    }
   ],
   "source": [
    "with app.syncio(connections=1) as session:\n",
    "    query = \"How Fruits and Vegetables Can Treat Asthma?\"\n",
    "    response: VespaQueryResponse = session.query(\n",
    "        yql=\"select * from sources * where ({targetHits:1000}nearestNeighbor(embedding,q)) limit 5\",\n",
    "        query=query,\n",
    "        ranking=\"semantic\",\n",
    "        body={\"input.query(q)\": f\"embed({query})\"},\n",
    "    )\n",
    "    assert response.is_successful()\n",
    "    print(display_hits_as_df(response, [\"id\", \"title\"]))"
   ]
  },
  {
   "cell_type": "markdown",
   "id": "1bd25020",
   "metadata": {},
   "source": [
    "### Hybrid Search\n",
    "\n",
    "This is one approach to combine the two retrieval strategies and where we use Vespa's support for\n",
    "[cross-hits feature normalization and reciprocal rank fusion](https://docs.vespa.ai/en/phased-ranking.html#cross-hit-normalization-including-reciprocal-rank-fusion). This\n",
    "functionality is exposed in the context of `global` re-ranking, after the distributed query retrieval execution which might span 1000s of nodes.\n",
    "\n",
    "#### Hybrid search with the OR query operator\n",
    "\n",
    "This combines the two methods using logical disjunction (OR). Note that the first-phase expression in our `fusion` expression is only using the semantic score, this\n",
    "because usually semantic search provides better recall than sparse keyword search alone.\n"
   ]
  },
  {
   "cell_type": "code",
   "execution_count": 8,
   "id": "82b5f6fe",
   "metadata": {},
   "outputs": [
    {
     "name": "stdout",
     "output_type": "stream",
     "text": [
      "         id                                              title\n",
      "0  MED-2464  Low vegetable intake is associated with allerg...\n",
      "1  MED-2450  Protective effect of fruits, vegetables and th...\n",
      "2  MED-2458  Manipulating antioxidant intake in asthma: a r...\n",
      "3  MED-2461  The association of diet with respiratory sympt...\n",
      "4  MED-5069  From beans to berries and beyond: teamwork bet...\n"
     ]
    }
   ],
   "source": [
    "with app.syncio(connections=1) as session:\n",
    "    query = \"How Fruits and Vegetables Can Treat Asthma?\"\n",
    "    response: VespaQueryResponse = session.query(\n",
    "        yql=\"select * from sources * where userQuery() or ({targetHits:1000}nearestNeighbor(embedding,q)) limit 5\",\n",
    "        query=query,\n",
    "        ranking=\"fusion\",\n",
    "        body={\"input.query(q)\": f\"embed({query})\"},\n",
    "    )\n",
    "    assert response.is_successful()\n",
    "    print(display_hits_as_df(response, [\"id\", \"title\"]))"
   ]
  },
  {
   "cell_type": "markdown",
   "id": "95fa4eb0",
   "metadata": {},
   "source": [
    "#### Hybrid search with the RANK query operator\n"
   ]
  },
  {
   "cell_type": "markdown",
   "id": "42b9e77a",
   "metadata": {},
   "source": [
    "This combines the two methods using the [rank](https://docs.vespa.ai/en/reference/query-language-reference.html#rank) query operator. In this case\n",
    "we express that we want to retrieve the top-1000 documents using vector search, and then have sparse features like BM25 calculated as well (second operand\n",
    "of the rank operator). Finally the hits are re-ranked using the reciprocal rank fusion\n"
   ]
  },
  {
   "cell_type": "code",
   "execution_count": 9,
   "id": "cb84a30a",
   "metadata": {},
   "outputs": [
    {
     "name": "stdout",
     "output_type": "stream",
     "text": [
      "         id                                              title\n",
      "0  MED-2464  Low vegetable intake is associated with allerg...\n",
      "1  MED-2450  Protective effect of fruits, vegetables and th...\n",
      "2  MED-2458  Manipulating antioxidant intake in asthma: a r...\n",
      "3  MED-2461  The association of diet with respiratory sympt...\n",
      "4  MED-5069  From beans to berries and beyond: teamwork bet...\n"
     ]
    }
   ],
   "source": [
    "with app.syncio(connections=1) as session:\n",
    "    query = \"How Fruits and Vegetables Can Treat Asthma?\"\n",
    "    response: VespaQueryResponse = session.query(\n",
    "        yql=\"select * from sources * where rank({targetHits:1000}nearestNeighbor(embedding,q), userQuery()) limit 5\",\n",
    "        query=query,\n",
    "        ranking=\"fusion\",\n",
    "        body={\"input.query(q)\": f\"embed({query})\"},\n",
    "    )\n",
    "    assert response.is_successful()\n",
    "    print(display_hits_as_df(response, [\"id\", \"title\"]))"
   ]
  },
  {
   "cell_type": "markdown",
   "id": "1457aefc",
   "metadata": {},
   "source": [
    "#### Hybrid search with filters\n",
    "\n",
    "In this example we add another query term to the yql, restricting the nearest neighbor search to only consider documents that have vegetable in the title.\n"
   ]
  },
  {
   "cell_type": "code",
   "execution_count": 10,
   "id": "b341042a",
   "metadata": {},
   "outputs": [
    {
     "name": "stdout",
     "output_type": "stream",
     "text": [
      "         id                                              title\n",
      "0  MED-2464  Low vegetable intake is associated with allerg...\n",
      "1  MED-2450  Protective effect of fruits, vegetables and th...\n",
      "2  MED-3199  Potential risks resulting from fruit/vegetable...\n",
      "3  MED-2085  Antiplatelet, anticoagulant, and fibrinolytic ...\n",
      "4  MED-4496  The effect of fruit and vegetable intake on ri...\n"
     ]
    }
   ],
   "source": [
    "with app.syncio(connections=1) as session:\n",
    "    query = \"How Fruits and Vegetables Can Treat Asthma?\"\n",
    "    response: VespaQueryResponse = session.query(\n",
    "        yql='select * from sources * where title contains \"vegetable\" and rank({targetHits:1000}nearestNeighbor(embedding,q), userQuery()) limit 5',\n",
    "        query=query,\n",
    "        ranking=\"fusion\",\n",
    "        body={\"input.query(q)\": f\"embed({query})\"},\n",
    "    )\n",
    "    assert response.is_successful()\n",
    "    print(display_hits_as_df(response, [\"id\", \"title\"]))"
   ]
  },
  {
   "cell_type": "markdown",
   "id": "28591491",
   "metadata": {},
   "source": [
    "## Cleanup\n"
   ]
  },
  {
   "cell_type": "code",
   "execution_count": 6,
   "id": "e5064bd2",
   "metadata": {},
   "outputs": [],
   "source": [
    "vespa_docker.container.stop()\n",
    "vespa_docker.container.remove()"
   ]
  },
  {
   "cell_type": "markdown",
   "id": "d1872b31",
   "metadata": {},
   "source": [
    "## Next steps\n",
    "\n",
    "This is just an intro into the capabilities of Vespa and pyvespa.\n",
    "Browse the site to learn more about schemas, feeding and queries -\n",
    "find more complex applications in\n",
    "[examples](https://pyvespa.readthedocs.io/en/latest/examples.html).\n"
   ]
  }
 ],
 "metadata": {
  "kernelspec": {
   "display_name": "Python 3.11.4 64-bit",
   "language": "python",
   "name": "python3"
  },
  "language_info": {
   "codemirror_mode": {
    "name": "ipython",
    "version": 3
   },
   "file_extension": ".py",
   "mimetype": "text/x-python",
   "name": "python",
   "nbconvert_exporter": "python",
   "pygments_lexer": "ipython3",
   "version": "3.9.6"
  },
  "vscode": {
   "interpreter": {
    "hash": "b0fa6594d8f4cbf19f97940f81e996739fb7646882a419484c72d19e05852a7e"
   }
  }
 },
 "nbformat": 4,
 "nbformat_minor": 5
}
