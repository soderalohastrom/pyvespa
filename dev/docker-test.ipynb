{
 "cells": [
  {
   "cell_type": "code",
   "execution_count": 37,
   "metadata": {},
   "outputs": [],
   "source": [
    "from vespa.package import ApplicationPackage, Document, Field, OnnxModel, Schema\n",
    "\n",
    "app_package = ApplicationPackage(\n",
    "    name=\"onnxexample\",\n",
    "    schema=[\n",
    "        Schema(\n",
    "            name=\"onnxexample\",\n",
    "            document=Document(\n",
    "                fields=[\n",
    "                    Field(\n",
    "                        name=\"document_id\",\n",
    "                        type=\"string\",\n",
    "                        indexing=[\"attribute\", \"summary\"],\n",
    "                    ),\n",
    "                    Field(name=\"text\", type=\"string\", indexing=[\"index\", \"summary\"]),\n",
    "                ]\n",
    "            ),\n",
    "            onnx_model=OnnxModel(\n",
    "                model_name=\"onnx_model\", model_file_path=\"/app/transformer.onnx\"\n",
    "            ),\n",
    "        )\n",
    "    ],\n",
    "    stateless_model_evaluation=True,\n",
    ")"
   ]
  },
  {
   "cell_type": "code",
   "execution_count": 38,
   "metadata": {},
   "outputs": [
    {
     "name": "stdout",
     "output_type": "stream",
     "text": [
      "Waiting for configuration server, 0/300 seconds...\n",
      "Using plain http against endpoint http://localhost:8080/ApplicationStatus\n",
      "Waiting for application status, 0/300 seconds...\n",
      "Using plain http against endpoint http://localhost:8080/ApplicationStatus\n",
      "Waiting for application status, 5/300 seconds...\n",
      "Using plain http against endpoint http://localhost:8080/ApplicationStatus\n",
      "Waiting for application status, 10/300 seconds...\n",
      "Using plain http against endpoint http://localhost:8080/ApplicationStatus\n",
      "Application is up!\n",
      "Finished deployment.\n"
     ]
    }
   ],
   "source": [
    "from vespa.deployment import VespaDocker\n",
    "\n",
    "vespa_docker = VespaDocker(\n",
    "    volumes=[\"/Users/thomas/repos/pyvespa/dev/transformer.onnx:/app/transformer.onnx\"]\n",
    ")\n",
    "app = vespa_docker.deploy(application_package=app_package)"
   ]
  },
  {
   "cell_type": "code",
   "execution_count": 45,
   "metadata": {},
   "outputs": [
    {
     "data": {
      "text/plain": [
       "{'status_code': 404, 'message': 'Not Found'}"
      ]
     },
     "execution_count": 45,
     "metadata": {},
     "output_type": "execute_result"
    }
   ],
   "source": [
    "app.get_model_endpoint(model_id=\"onnxexample\")"
   ]
  },
  {
   "cell_type": "code",
   "execution_count": 40,
   "metadata": {},
   "outputs": [
    {
     "name": "stdout",
     "output_type": "stream",
     "text": [
      "<html>\n",
      "<head>\n",
      "<meta http-equiv=\"Content-Type\" content=\"text/html;charset=ISO-8859-1\"/>\n",
      "<title>Error 404</title>\n",
      "</head>\n",
      "<body>\n",
      "<h2>HTTP ERROR: 404</h2>\n",
      "<p>Problem accessing /models-evaluation/. Reason:\n",
      "<pre>    No binding for URI &apos;http://localhost:8080/models-evaluation/&apos;.</pre></p>\n",
      "<hr/>\n",
      "</body>\n",
      "</html>\n"
     ]
    }
   ],
   "source": [
    "!curl http://localhost:8080/models-evaluation/"
   ]
  },
  {
   "cell_type": "code",
   "execution_count": 41,
   "metadata": {},
   "outputs": [
    {
     "name": "stdout",
     "output_type": "stream",
     "text": [
      "<html>\n",
      "<head>\n",
      "<meta http-equiv=\"Content-Type\" content=\"text/html;charset=ISO-8859-1\"/>\n",
      "<title>Error 404</title>\n",
      "</head>\n",
      "<body>\n",
      "<h2>HTTP ERROR: 404</h2>\n",
      "<p>Problem accessing /models-evaluation/v1/. Reason:\n",
      "<pre>    No binding for URI &apos;http://127.0.0.1:8080/models-evaluation/v1/&apos;.</pre></p>\n",
      "<hr/>\n",
      "</body>\n",
      "</html>\n"
     ]
    }
   ],
   "source": [
    "!vespa curl /models-evaluation/v1/"
   ]
  },
  {
   "cell_type": "code",
   "execution_count": 46,
   "metadata": {},
   "outputs": [],
   "source": [
    "vespa_docker.container.stop()\n",
    "vespa_docker.container.remove()"
   ]
  },
  {
   "cell_type": "code",
   "execution_count": null,
   "metadata": {},
   "outputs": [],
   "source": []
  }
 ],
 "metadata": {
  "kernelspec": {
   "display_name": "pyvespa",
   "language": "python",
   "name": "python3"
  },
  "language_info": {
   "codemirror_mode": {
    "name": "ipython",
    "version": 3
   },
   "file_extension": ".py",
   "mimetype": "text/x-python",
   "name": "python",
   "nbconvert_exporter": "python",
   "pygments_lexer": "ipython3",
   "version": "3.9.6"
  }
 },
 "nbformat": 4,
 "nbformat_minor": 2
}
